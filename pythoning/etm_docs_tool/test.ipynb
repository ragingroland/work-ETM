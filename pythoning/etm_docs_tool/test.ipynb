{
 "cells": [
  {
   "cell_type": "code",
   "execution_count": 9,
   "metadata": {},
   "outputs": [
    {
     "name": "stdout",
     "output_type": "stream",
     "text": [
      "DataMart,DataPrime,public\n"
     ]
    }
   ],
   "source": [
    "schema = ['DataMart', 'DataPrime', 'public']\n",
    "print(','.join(schema))"
   ]
  },
  {
   "cell_type": "code",
   "execution_count": 11,
   "metadata": {},
   "outputs": [
    {
     "name": "stdout",
     "output_type": "stream",
     "text": [
      "[['DataPrime', 'WmsInvoiceRsm', None, 'QuantRgd', 'float', 'Кол-во штук товара'], ['DataPrime', 'WmsInvoiceRsm', None, 'QuantStr', 'float', 'Кол-во строк'], ['DataPrime', 'WmsInvoiceRsm', None, 'QuantInv', 'float', 'Кол-во документов'], ['DataPrime', 'WmsInvoiceRsm', None, 'StoreGetName', 'varchar(70)', 'Имя склада-получателя '], ['DataPrime', 'WmsInvoiceRsm', None, 'PlanComplShip', 'varchar(2)', 'План/комплект/Отгруз'], ['DataPrime', 'WmsInvoiceRsm', None, 'State', 'varchar(66)', 'Состояние'], ['DataPrime', 'WmsInvoiceRsm', None, 'RcCode', 'int', 'Код склада ЛЦ'], ['DataPrime', 'WmsInvoiceRsm', None, 'Weight', 'float', 'Вес'], ['DataPrime', 'WmsInvoiceRsm', None, 'Volume', 'float', 'Объем'], ['DataPrime', 'WmsInvoiceRsm', None, 'DataInfo', 'date', 'Дата среза']]\n"
     ]
    }
   ],
   "source": [
    "import vertica_python\n",
    "conn_info = {'host': '172.24.2.140',\n",
    "             'port': 5433,\n",
    "             'user': 'user_finebi_jdbc',\n",
    "             'password': 'userfinebijdbcvert92',\n",
    "             'database': 'DWH',\n",
    "             'autocommit': True,\n",
    "             'connection_load_balance': True}\n",
    "conn = vertica_python.connect(**conn_info)\n",
    "cur = conn.cursor()\n",
    "cur.execute(f\"\"\"select\n",
    "                    at.schema_name,\n",
    "                    at.table_name,\n",
    "                    at.remarks,\n",
    "                    cl.column_name,\n",
    "                    cl.data_type,\n",
    "                    cm.comment\n",
    "                from v_catalog.all_tables at\n",
    "                left join v_catalog.columns cl on at.table_name = cl.table_name\n",
    "                left join v_catalog.comments cm on cl.table_schema = cm.object_schema\n",
    "                    and cl.table_name = cm.object_name\n",
    "                    and upper(cl.column_name) = upper(cm.child_object)\n",
    "                where at.schema_name = 'DataPrime' and at.table_name = 'WmsInvoiceRsm'\n",
    "                order by 2;\"\"\")\n",
    "result = cur.fetchall()\n",
    "print(result)"
   ]
  },
  {
   "cell_type": "code",
   "execution_count": 8,
   "metadata": {},
   "outputs": [
    {
     "name": "stdout",
     "output_type": "stream",
     "text": [
      "Найденные таблицы:\n",
      "Vw_StructCl63Mng_2_3\n",
      "Vw_BudgTypeExp\n",
      "Vw_ChannelsSale\n",
      "Vw_Class71_2\n",
      "Vw_Class72_2\n",
      "Vw_TypeCust_LegIndiv\n",
      "Vw_Class305\n",
      "Vw_DescMnf\n",
      "Vw_DescCostCenterOt\n"
     ]
    }
   ],
   "source": [
    "import re\n",
    "import csv\n",
    "\n",
    "def extract_table_names(file_path):\n",
    "    table_names = []\n",
    "    with open(file_path, 'r') as file:\n",
    "        for line in file:\n",
    "            if re.search('CREATE OR REPLACE VIEW', line, re.IGNORECASE):\n",
    "                match = re.search(r'CREATE OR REPLACE VIEW\\s+([a-zA-Z0-9_.]+)', line, re.IGNORECASE)\n",
    "                if match:\n",
    "                    table_names2 = match.group(1).split('.')[-1]\n",
    "                    table_names.append(table_names2)\n",
    "    return table_names\n",
    "\n",
    "file_path = 'C:\\\\Users\\\\ivanov_vvx\\\\Desktop\\\\vw.txt'\n",
    "table_names = extract_table_names(file_path)\n",
    "\n",
    "with open('table_names_vw.csv', 'w', newline='') as csvfile:\n",
    "    writer = csv.writer(csvfile)\n",
    "    writer.writerow(['table_name'])\n",
    "    for name in table_names:\n",
    "        writer.writerow([name])\n",
    "\n",
    "print(\"Найденные таблицы:\")\n",
    "for name in table_names:\n",
    "    print(name)"
   ]
  },
  {
   "cell_type": "code",
   "execution_count": 5,
   "metadata": {},
   "outputs": [
    {
     "name": "stdout",
     "output_type": "stream",
     "text": [
      "   col1  col2  col3\n",
      "0     1     2     3\n"
     ]
    }
   ],
   "source": [
    "from contextlib import redirect_stdout\n",
    "import pandas as pd\n",
    "\n",
    "\n",
    "all = pd.DataFrame({'col1': [1], 'col2': [2], 'col3': [3]})\n",
    "\n",
    "print (all)\n",
    "with open('output.txt', 'w') as f, redirect_stdout(f):\n",
    "    print(all)"
   ]
  },
  {
   "cell_type": "code",
   "execution_count": 27,
   "metadata": {},
   "outputs": [
    {
     "name": "stdout",
     "output_type": "stream",
     "text": [
      "[OrderedDict({'table_name': 'DataPrime.ElmaChildProc', 'column_name': 'ChildProc_Id', 'data_type': 'int', 'comment': 'Id процесса'})]\n"
     ]
    }
   ],
   "source": [
    "from collections import OrderedDict\n",
    "import vertica_python\n",
    "\n",
    "conn_info = {'host': '172.24.2.140',\n",
    "             'port': 5433,\n",
    "             'user': 'user_finebi_jdbc',\n",
    "             'password': 'userfinebijdbcvert92',\n",
    "             'database': 'DWH',\n",
    "             'autocommit': False,\n",
    "             'connection_load_balance': True}\n",
    "conn = vertica_python.connect(**conn_info)\n",
    "cur = conn.cursor()\n",
    "cur2 = conn.cursor(cursor_type = dict)\n",
    "cur2.execute(f\"\"\"select\n",
    "                        at.schema_name || '.' || at.table_name as table_name,\n",
    "                        cl.column_name,\n",
    "                        cl.data_type,\n",
    "                        cm.comment\n",
    "                    from v_catalog.all_tables at\n",
    "                    left join v_catalog.columns cl on at.table_name = cl.table_name\n",
    "                    left join v_catalog.comments cm on cl.table_schema = cm.object_schema\n",
    "                        and cl.table_name = cm.object_name\n",
    "                        and upper(cl.column_name) = upper(cm.child_object)\n",
    "                    where at.schema_name = 'DataPrime' and at.table_name = 'ElmaChildProc';\n",
    "                    \"\"\")\n",
    "result = [row for row in cur2.fetchmany()]\n",
    "print(result)\n",
    "\n"
   ]
  },
  {
   "cell_type": "code",
   "execution_count": 1,
   "metadata": {},
   "outputs": [
    {
     "name": "stdout",
     "output_type": "stream",
     "text": [
      "1, 2, 3, 4, 5, 6, 7, 8, 9, 10, 11, 12, 13, 14, 15, "
     ]
    }
   ],
   "source": [
    "for i in range(1, 16):\n",
    "    print(i, end = ', ')"
   ]
  }
 ],
 "metadata": {
  "kernelspec": {
   "display_name": "Python 3",
   "language": "python",
   "name": "python3"
  },
  "language_info": {
   "codemirror_mode": {
    "name": "ipython",
    "version": 3
   },
   "file_extension": ".py",
   "mimetype": "text/x-python",
   "name": "python",
   "nbconvert_exporter": "python",
   "pygments_lexer": "ipython3",
   "version": "3.12.4"
  }
 },
 "nbformat": 4,
 "nbformat_minor": 2
}
