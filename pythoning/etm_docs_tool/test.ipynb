{
 "cells": [
  {
   "cell_type": "code",
   "execution_count": 9,
   "metadata": {},
   "outputs": [
    {
     "name": "stdout",
     "output_type": "stream",
     "text": [
      "DataMart,DataPrime,public\n"
     ]
    }
   ],
   "source": [
    "schema = ['DataMart', 'DataPrime', 'public']\n",
    "print(','.join(schema))"
   ]
  },
  {
   "cell_type": "code",
   "execution_count": 11,
   "metadata": {},
   "outputs": [
    {
     "name": "stdout",
     "output_type": "stream",
     "text": [
      "[['DataPrime', 'WmsInvoiceRsm', None, 'QuantRgd', 'float', 'Кол-во штук товара'], ['DataPrime', 'WmsInvoiceRsm', None, 'QuantStr', 'float', 'Кол-во строк'], ['DataPrime', 'WmsInvoiceRsm', None, 'QuantInv', 'float', 'Кол-во документов'], ['DataPrime', 'WmsInvoiceRsm', None, 'StoreGetName', 'varchar(70)', 'Имя склада-получателя '], ['DataPrime', 'WmsInvoiceRsm', None, 'PlanComplShip', 'varchar(2)', 'План/комплект/Отгруз'], ['DataPrime', 'WmsInvoiceRsm', None, 'State', 'varchar(66)', 'Состояние'], ['DataPrime', 'WmsInvoiceRsm', None, 'RcCode', 'int', 'Код склада ЛЦ'], ['DataPrime', 'WmsInvoiceRsm', None, 'Weight', 'float', 'Вес'], ['DataPrime', 'WmsInvoiceRsm', None, 'Volume', 'float', 'Объем'], ['DataPrime', 'WmsInvoiceRsm', None, 'DataInfo', 'date', 'Дата среза']]\n"
     ]
    }
   ],
   "source": [
    "import vertica_python\n",
    "conn_info = {'host': '172.24.2.140',\n",
    "             'port': 5433,\n",
    "             'user': 'user_finebi_jdbc',\n",
    "             'password': 'userfinebijdbcvert92',\n",
    "             'database': 'DWH',\n",
    "             'autocommit': True,\n",
    "             'connection_load_balance': True}\n",
    "conn = vertica_python.connect(**conn_info)\n",
    "cur = conn.cursor()\n",
    "cur.execute(f\"\"\"select\n",
    "                    at.schema_name,\n",
    "                    at.table_name,\n",
    "                    at.remarks,\n",
    "                    cl.column_name,\n",
    "                    cl.data_type,\n",
    "                    cm.comment\n",
    "                from v_catalog.all_tables at\n",
    "                left join v_catalog.columns cl on at.table_name = cl.table_name\n",
    "                left join v_catalog.comments cm on cl.table_schema = cm.object_schema\n",
    "                    and cl.table_name = cm.object_name\n",
    "                    and upper(cl.column_name) = upper(cm.child_object)\n",
    "                where at.schema_name = 'DataPrime' and at.table_name = 'WmsInvoiceRsm'\n",
    "                order by 2;\"\"\")\n",
    "result = cur.fetchall()\n",
    "print(result)"
   ]
  }
 ],
 "metadata": {
  "kernelspec": {
   "display_name": "Python 3",
   "language": "python",
   "name": "python3"
  },
  "language_info": {
   "codemirror_mode": {
    "name": "ipython",
    "version": 3
   },
   "file_extension": ".py",
   "mimetype": "text/x-python",
   "name": "python",
   "nbconvert_exporter": "python",
   "pygments_lexer": "ipython3",
   "version": "3.12.4"
  }
 },
 "nbformat": 4,
 "nbformat_minor": 2
}
